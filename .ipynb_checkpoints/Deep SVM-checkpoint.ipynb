{
 "cells": [
  {
   "cell_type": "code",
   "execution_count": 12,
   "id": "31129d46-44f6-4d79-8a65-7eaf85e879c6",
   "metadata": {
    "tags": []
   },
   "outputs": [],
   "source": [
    "import pandas as pd\n",
    "import numpy as np\n",
    "from sklearn.preprocessing import StandardScaler\n",
    "from pyod.models.iforest import IForest\n"
   ]
  },
  {
   "cell_type": "code",
   "execution_count": 13,
   "id": "ddfbabbb-9080-43dc-a4dc-a8670dd1c120",
   "metadata": {
    "tags": []
   },
   "outputs": [],
   "source": [
    "df = pd.read_csv('dataset.csv')"
   ]
  },
  {
   "cell_type": "code",
   "execution_count": 14,
   "id": "2ebca8f2-b14c-4281-9ab3-5cdbdd395da7",
   "metadata": {
    "tags": []
   },
   "outputs": [],
   "source": [
    "df_cleaned = df.dropna()\n",
    "feature_columns=['chem_num_atoms', 'chem_volume', 'chem_density', 'chem_avg_atomic_mass',\n",
    "       'chem_avg_electronegativity', 'chem_electronegativity_variance',\n",
    "       'chem_metal_fraction', 'chem_num_unique_elements',\n",
    "       'chem_metal_atom_count', 'chem_volume_per_atom', 'geo_surface_area_m2g',\n",
    "       'geo_surface_area_m2cm3', 'geo_void_fraction', 'geo_pld', 'geo_lcd',\n",
    "       'link_linker_atom_fraction', 'link_linker_bond_length_mean',\n",
    "       'link_linker_bond_length_std', 'link_metal_coord_number_mean',\n",
    "       'topo_avg_node_connectivity', 'topo_avg_ring_size',\n",
    "       'topo_coordination_number_mean', 'topo_degree_assortativity',\n",
    "       'topo_degree_centrality_mean', 'topo_graph_density',\n",
    "       'topo_graph_entropy', 'topo_graph_transitivity',\n",
    "       'topo_largest_cc_fraction', 'topo_node_connectivity_std',\n",
    "       'topo_num_connected_components', 'topo_num_edges', 'topo_num_nodes']"
   ]
  },
  {
   "cell_type": "code",
   "execution_count": 15,
   "id": "d1244b2f-90a0-41ba-b5a6-c215b8bf026e",
   "metadata": {
    "tags": []
   },
   "outputs": [],
   "source": [
    "X = df_cleaned[feature_columns]\n",
    "\n",
    "scaler_X = StandardScaler()\n",
    "scaler_X.fit(X)\n",
    "X_scaled=scaler_X.transform(X)\n"
   ]
  },
  {
   "cell_type": "code",
   "execution_count": 16,
   "id": "2650faf1-f00b-4ea0-8d3a-4f0a6c2b0bf2",
   "metadata": {
    "tags": []
   },
   "outputs": [],
   "source": [
    "mof_ids = df_cleaned['MOF_ID'].copy()"
   ]
  },
  {
   "cell_type": "code",
   "execution_count": 17,
   "id": "60b04810-79af-4cfe-bbda-f78dea689393",
   "metadata": {
    "tags": []
   },
   "outputs": [
    {
     "data": {
      "text/plain": [
       "IForest(behaviour='old', bootstrap=False, contamination=0.05,\n",
       "    max_features=1.0, max_samples='auto', n_estimators=100, n_jobs=1,\n",
       "    random_state=42, verbose=0)"
      ]
     },
     "execution_count": 17,
     "metadata": {},
     "output_type": "execute_result"
    }
   ],
   "source": [
    "\n",
    "contamination_rate = 0.05\n",
    "\n",
    "clf = IForest(\n",
    "    n_estimators=100,\n",
    "    contamination=contamination_rate,\n",
    "    random_state=42 # for reproducibility\n",
    ")\n",
    "\n",
    "# Train the model on the scaled data\n",
    "clf.fit(X_scaled)\n",
    "\n",
    "\n"
   ]
  },
  {
   "cell_type": "code",
   "execution_count": 21,
   "id": "914e61c4-772d-4f1b-915c-c61bf9ec1e5a",
   "metadata": {
    "tags": []
   },
   "outputs": [],
   "source": [
    "anomaly_scores = clf.decision_function(X_scaled)\n",
    "anomaly_labels = clf.predict(X_scaled)\n",
    "\n",
    "\n",
    "results_df = pd.DataFrame({\n",
    "    'mof_id': mof_ids,\n",
    "    'deep_forest_score': anomaly_scores,\n",
    "    'deep_forest_anomaly_label': anomaly_labels\n",
    "})"
   ]
  },
  {
   "cell_type": "code",
   "execution_count": 22,
   "id": "3c989ac1-3f08-4d2f-a742-1b7ace7fe1f9",
   "metadata": {
    "tags": []
   },
   "outputs": [],
   "source": [
    "results_df_sorted = results_df.sort_values(by='deep_forest_score', ascending=False)"
   ]
  },
  {
   "cell_type": "code",
   "execution_count": 23,
   "id": "f4294f4e-efb5-4fe1-9b18-aac080133785",
   "metadata": {
    "tags": []
   },
   "outputs": [
    {
     "name": "stdout",
     "output_type": "stream",
     "text": [
      "\n",
      "--- Top 10 Most Anomalous MOFs (according to Deep forest) ---\n",
      "                             mof_id  deep_forest_score  \\\n",
      "2844                   FORXIU_clean           0.165616   \n",
      "25696                  WOMXED_clean           0.155426   \n",
      "937    c6ce00407e_c6ce00407e6_clean           0.151795   \n",
      "936    c6ce00407e_c6ce00407e5_clean           0.151279   \n",
      "406                    AVAJUE_clean           0.150909   \n",
      "23348                  RIVDEH_clean           0.147690   \n",
      "19690                  JALLOA_clean           0.147291   \n",
      "20335                LAFRAN01_clean           0.143713   \n",
      "116                    ADUROI_clean           0.140370   \n",
      "24469                  UGOCAW_clean           0.139359   \n",
      "\n",
      "       deep_forest_anomaly_label  \n",
      "2844                           1  \n",
      "25696                          1  \n",
      "937                            1  \n",
      "936                            1  \n",
      "406                            1  \n",
      "23348                          1  \n",
      "19690                          1  \n",
      "20335                          1  \n",
      "116                            1  \n",
      "24469                          1  \n"
     ]
    }
   ],
   "source": [
    "print(\"\\n--- Top 10 Most Anomalous MOFs (according to Deep forest) ---\")\n",
    "print(results_df_sorted.head(10))"
   ]
  },
  {
   "cell_type": "code",
   "execution_count": null,
   "id": "ceace59a-f463-4ff4-9c54-9653e3dfac63",
   "metadata": {},
   "outputs": [],
   "source": []
  }
 ],
 "metadata": {
  "kernelspec": {
   "display_name": "Python 3 (ipykernel)",
   "language": "python",
   "name": "python3"
  },
  "language_info": {
   "codemirror_mode": {
    "name": "ipython",
    "version": 3
   },
   "file_extension": ".py",
   "mimetype": "text/x-python",
   "name": "python",
   "nbconvert_exporter": "python",
   "pygments_lexer": "ipython3",
   "version": "3.9.6"
  }
 },
 "nbformat": 4,
 "nbformat_minor": 5
}
