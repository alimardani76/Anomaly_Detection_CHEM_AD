{
 "cells": [
  {
   "cell_type": "code",
   "execution_count": 1,
   "id": "31129d46-44f6-4d79-8a65-7eaf85e879c6",
   "metadata": {
    "tags": []
   },
   "outputs": [],
   "source": [
    "import pandas as pd\n",
    "import numpy as np\n",
    "from sklearn.preprocessing import StandardScaler\n",
    "from pyod.models.deep_svdd import DeepSVDD\n"
   ]
  },
  {
   "cell_type": "code",
   "execution_count": 2,
   "id": "ddfbabbb-9080-43dc-a4dc-a8670dd1c120",
   "metadata": {
    "tags": []
   },
   "outputs": [],
   "source": [
    "df = pd.read_csv('dataset.csv')"
   ]
  },
  {
   "cell_type": "code",
   "execution_count": 3,
   "id": "2ebca8f2-b14c-4281-9ab3-5cdbdd395da7",
   "metadata": {
    "tags": []
   },
   "outputs": [],
   "source": [
    "df_cleaned = df.dropna()\n",
    "feature_columns=['chem_num_atoms', 'chem_volume', 'chem_density', 'chem_avg_atomic_mass',\n",
    "       'chem_avg_electronegativity', 'chem_electronegativity_variance',\n",
    "       'chem_metal_fraction', 'chem_num_unique_elements',\n",
    "       'chem_metal_atom_count', 'chem_volume_per_atom', 'geo_surface_area_m2g',\n",
    "       'geo_surface_area_m2cm3', 'geo_void_fraction', 'geo_pld', 'geo_lcd',\n",
    "       'link_linker_atom_fraction', 'link_linker_bond_length_mean',\n",
    "       'link_linker_bond_length_std', 'link_metal_coord_number_mean',\n",
    "       'topo_avg_node_connectivity', 'topo_avg_ring_size',\n",
    "       'topo_coordination_number_mean', 'topo_degree_assortativity',\n",
    "       'topo_degree_centrality_mean', 'topo_graph_density',\n",
    "       'topo_graph_entropy', 'topo_graph_transitivity',\n",
    "       'topo_largest_cc_fraction', 'topo_node_connectivity_std',\n",
    "       'topo_num_connected_components', 'topo_num_edges', 'topo_num_nodes']"
   ]
  },
  {
   "cell_type": "code",
   "execution_count": 4,
   "id": "d1244b2f-90a0-41ba-b5a6-c215b8bf026e",
   "metadata": {
    "tags": []
   },
   "outputs": [],
   "source": [
    "X = df_cleaned[feature_columns]\n",
    "\n",
    "scaler_X = StandardScaler()\n",
    "scaler_X.fit(X)\n",
    "X_scaled=scaler_X.transform(X)\n"
   ]
  },
  {
   "cell_type": "code",
   "execution_count": 7,
   "id": "2650faf1-f00b-4ea0-8d3a-4f0a6c2b0bf2",
   "metadata": {
    "tags": []
   },
   "outputs": [],
   "source": [
    "mof_ids = df_cleaned['MOF_ID'].copy()"
   ]
  },
  {
   "cell_type": "code",
   "execution_count": null,
   "id": "60b04810-79af-4cfe-bbda-f78dea689393",
   "metadata": {
    "tags": []
   },
   "outputs": [],
   "source": [
    "\n",
    "contamination_rate = 0.05\n",
    "\n",
    "clf = DeepSVDD(\n",
    "    use_ae=True,\n",
    "    hidden_neurons=[16, 8],\n",
    "    epochs=100,\n",
    "    batch_size=32,\n",
    "    dropout_rate=0.1,\n",
    "    contamination=contamination_rate,\n",
    "    verbose=1\n",
    ")\n",
    "\n",
    "# Train the model on the scaled data\n",
    "clf.fit(X_scaled)\n",
    "\n",
    "\n"
   ]
  },
  {
   "cell_type": "code",
   "execution_count": 8,
   "id": "914e61c4-772d-4f1b-915c-c61bf9ec1e5a",
   "metadata": {
    "tags": []
   },
   "outputs": [
    {
     "name": "stdout",
     "output_type": "stream",
     "text": [
      "814/814 [==============================] - 1s 900us/step\n",
      "814/814 [==============================] - 1s 895us/step\n"
     ]
    }
   ],
   "source": [
    "anomaly_scores = clf.decision_function(X_scaled)\n",
    "anomaly_labels = clf.predict(X_scaled)\n",
    "\n",
    "\n",
    "results_df = pd.DataFrame({\n",
    "    'mof_id': mof_ids,\n",
    "    'deep_svdd_score': anomaly_scores,\n",
    "    'deep_svdd_anomaly_label': anomaly_labels\n",
    "})"
   ]
  },
  {
   "cell_type": "code",
   "execution_count": 9,
   "id": "3c989ac1-3f08-4d2f-a742-1b7ace7fe1f9",
   "metadata": {
    "tags": []
   },
   "outputs": [],
   "source": [
    "results_df_sorted = results_df.sort_values(by='deep_svdd_score', ascending=False)"
   ]
  },
  {
   "cell_type": "code",
   "execution_count": 11,
   "id": "f4294f4e-efb5-4fe1-9b18-aac080133785",
   "metadata": {
    "tags": []
   },
   "outputs": [
    {
     "name": "stdout",
     "output_type": "stream",
     "text": [
      "\n",
      "--- Top 10 Most Anomalous MOFs (according to Deep SVDD) ---\n",
      "                             mof_id  deep_svdd_score  deep_svdd_anomaly_label\n",
      "6504                   hMOF-1002818         3.275599                        1\n",
      "936    c6ce00407e_c6ce00407e5_clean         1.451180                        1\n",
      "937    c6ce00407e_c6ce00407e6_clean         0.387846                        1\n",
      "26101                  XICYUF_clean         0.251571                        1\n",
      "19010                  ICIKIP_clean         0.237343                        1\n",
      "2265                   ERANAO_clean         0.233862                        1\n",
      "23016                  QOYYOU_clean         0.217134                        1\n",
      "19549        ja403810k_si_003_clean         0.205295                        1\n",
      "19790                  JONKEE_clean         0.188737                        1\n",
      "23349                  RIVDIL_clean         0.182875                        1\n"
     ]
    }
   ],
   "source": [
    "print(\"\\n--- Top 10 Most Anomalous MOFs (according to Deep SVDD) ---\")\n",
    "print(results_df_sorted.head(10))"
   ]
  }
 ],
 "metadata": {
  "kernelspec": {
   "display_name": "Python 3 (ipykernel)",
   "language": "python",
   "name": "python3"
  },
  "language_info": {
   "codemirror_mode": {
    "name": "ipython",
    "version": 3
   },
   "file_extension": ".py",
   "mimetype": "text/x-python",
   "name": "python",
   "nbconvert_exporter": "python",
   "pygments_lexer": "ipython3",
   "version": "3.9.6"
  }
 },
 "nbformat": 4,
 "nbformat_minor": 5
}
